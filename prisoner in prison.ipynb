{
 "cells": [
  {
   "cell_type": "code",
   "execution_count": null,
   "metadata": {},
   "outputs": [],
   "source": [
    "import numpy as np\n",
    "b1=1\n",
    "c=1/2\n",
    "betha=0.5"
   ]
  },
  {
   "cell_type": "code",
   "execution_count": null,
   "metadata": {},
   "outputs": [],
   "source": [
    "# a function which thakes the moves and calculate the scores\n",
    "# 1 means C and -1 means D\n",
    "def scores(m1,m2):\n"
   ]
  },
  {
   "cell_type": "code",
   "execution_count": null,
   "metadata": {},
   "outputs": [],
   "source": [
    "def neighbour(i,j,k):\n",
    "    if k=0:\n",
    "        hi=(i+1)%N\n",
    "        hj=(j)%N\n",
    "    if k=1:\n",
    "        hi=(i-1)%N\n",
    "        hj=(j)%N\n",
    "    if k=2:\n",
    "        hi=i\n",
    "        hj=(j+1)%N\n",
    "    if k=3:\n",
    "        hi=i\n",
    "        hj=(j-1)%N\n",
    "    return hi,hj"
   ]
  },
  {
   "cell_type": "code",
   "execution_count": null,
   "metadata": {},
   "outputs": [],
   "source": [
    "def strategy(strategy,player1,player2):"
   ]
  },
  {
   "cell_type": "code",
   "execution_count": null,
   "metadata": {},
   "outputs": [],
   "source": [
    "def probscore(s,smax):\n",
    "    ro=1/(1+np.pow(np.e,-1*betha*(smax-s)))\n",
    "    return ro"
   ]
  },
  {
   "cell_type": "code",
   "execution_count": null,
   "metadata": {},
   "outputs": [],
   "source": [
    "def prison():\n",
    "    prisoner=np.count_nonzero(x==-1)\n",
    "    l=np.ones((N,N))\n",
    "    repeat=0\n",
    "    for i in range(N):\n",
    "        for j in range(N):\n",
    "            if repeat<= prisoner:\n",
    "                l[i,j]=-1\n",
    "                repeat+=1"
   ]
  },
  {
   "cell_type": "code",
   "execution_count": null,
   "metadata": {},
   "outputs": [],
   "source": [
    "N=5\n",
    "l=np.ones((N,N))\n",
    "l[np.random.randint(0,N)][np.random.randint(0,N)]=-1\n",
    "S=np.zeros((N,N))\n",
    "for i in range(N):\n",
    "    for j in range(N):\n",
    "        listscore=[]\n",
    "        for k in range(4):\n",
    "            x,y=neighbour(i,j,k)\n",
    "            if l[i,j]==1 and l[x,y]==1:\n",
    "                S[i,j]=score[s1,s1]\n",
    "                S[x,y]=S[i,j]\n",
    "            if l[i,j]==-1 and l[x,y]==-1:\n",
    "                S[i,j]=score[s2,s2]\n",
    "                S[x,y]=S[i,j]\n",
    "            if l[i,j]==-1 and l[x,y]==1:\n",
    "                S[i,j]=score[s2,s1]\n",
    "                S[x,y]=score[s1,s2]\n",
    "            if l[i,j]==1 and l[x,y]==-1:\n",
    "                S[i,j]=score[s1,s2]\n",
    "                S[x,y]=score[s2,s1]\n",
    "            listscore.append(S[x,y],S[i,j])\n",
    "        maxscore=np.max(np.array(listscore))\n",
    "        \n",
    "        S[i,j]+=score(l[i][j],l[x][y])[0]\n",
    "        S[x,y]+=score(l[i][j],l[x][y])[1]\n",
    "#         strategy()\n",
    "\n",
    "        \n",
    "        \n",
    "        "
   ]
  },
  {
   "cell_type": "code",
   "execution_count": 3,
   "metadata": {},
   "outputs": [
    {
     "name": "stdout",
     "output_type": "stream",
     "text": [
      "1\n",
      "1\n",
      "0\n",
      "1\n",
      "1\n",
      "1\n",
      "1\n",
      "0\n",
      "0\n",
      "0\n"
     ]
    }
   ],
   "source": [
    "import numpy as np\n",
    "for i in range(10):\n",
    "    print(np.random.randint(0,2))"
   ]
  },
  {
   "cell_type": "code",
   "execution_count": 14,
   "metadata": {},
   "outputs": [
    {
     "data": {
      "text/plain": [
       "3"
      ]
     },
     "execution_count": 14,
     "metadata": {},
     "output_type": "execute_result"
    }
   ],
   "source": [
    "x=np.array([[1,3,2,4,2],[5,4,2,8,9]])\n",
    "y=np.count_nonzero(x==2)\n",
    "y"
   ]
  },
  {
   "cell_type": "code",
   "execution_count": null,
   "metadata": {},
   "outputs": [],
   "source": []
  }
 ],
 "metadata": {
  "kernelspec": {
   "display_name": "Python 3",
   "language": "python",
   "name": "python3"
  },
  "language_info": {
   "codemirror_mode": {
    "name": "ipython",
    "version": 3
   },
   "file_extension": ".py",
   "mimetype": "text/x-python",
   "name": "python",
   "nbconvert_exporter": "python",
   "pygments_lexer": "ipython3",
   "version": "3.7.4"
  }
 },
 "nbformat": 4,
 "nbformat_minor": 2
}
#hello there
